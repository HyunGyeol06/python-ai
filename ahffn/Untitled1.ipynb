{
 "cells": [
  {
   "cell_type": "code",
   "execution_count": 1,
   "id": "f55548a4",
   "metadata": {},
   "outputs": [],
   "source": [
    "from scipy import stats"
   ]
  },
  {
   "cell_type": "code",
   "execution_count": 2,
   "id": "87a9f7c0",
   "metadata": {},
   "outputs": [],
   "source": [
    "import numpy as np"
   ]
  },
  {
   "cell_type": "code",
   "execution_count": 3,
   "id": "42b8412a",
   "metadata": {},
   "outputs": [],
   "source": [
    "x = [0,3,5,7,10]\n",
    "\n",
    "s = np.std(x)\n",
    "m = np.std(x)"
   ]
  },
  {
   "cell_type": "code",
   "execution_count": 4,
   "id": "5cdc2503",
   "metadata": {},
   "outputs": [
    {
     "data": {
      "text/plain": [
       "array([-1.46805055, -0.58722022,  0.        ,  0.58722022,  1.46805055])"
      ]
     },
     "execution_count": 4,
     "metadata": {},
     "output_type": "execute_result"
    }
   ],
   "source": [
    "stats.zscore(x)"
   ]
  },
  {
   "cell_type": "code",
   "execution_count": 5,
   "id": "7d110896",
   "metadata": {},
   "outputs": [
    {
     "data": {
      "text/plain": [
       "0.5"
      ]
     },
     "execution_count": 5,
     "metadata": {},
     "output_type": "execute_result"
    }
   ],
   "source": [
    "stats.norm.cdf(0)"
   ]
  },
  {
   "cell_type": "code",
   "execution_count": 6,
   "id": "ab5ac21c",
   "metadata": {},
   "outputs": [
    {
     "data": {
      "text/plain": [
       "0.6826894921370859"
      ]
     },
     "execution_count": 6,
     "metadata": {},
     "output_type": "execute_result"
    }
   ],
   "source": [
    "stats.norm.cdf(1.0) - stats.norm.cdf(-1.0)"
   ]
  },
  {
   "cell_type": "code",
   "execution_count": 7,
   "id": "982dccb5",
   "metadata": {},
   "outputs": [
    {
     "data": {
      "text/plain": [
       "0.9544997361036416"
      ]
     },
     "execution_count": 7,
     "metadata": {},
     "output_type": "execute_result"
    }
   ],
   "source": [
    "stats.norm.cdf(2.0) - stats.norm.cdf(-2.0)"
   ]
  },
  {
   "cell_type": "code",
   "execution_count": 15,
   "id": "159ea616",
   "metadata": {
    "collapsed": true
   },
   "outputs": [
    {
     "name": "stderr",
     "output_type": "stream",
     "text": [
      "Downloading...\n",
      "From: https://bit.ly/3pK7iuu\n",
      "To: C:\\Users\\user\\bigdata-python\\ahffn\\ns_book7.csv\n",
      "\n",
      "  0%|                                                                                      | 0.00/53.8M [00:00<?, ?B/s]\u001b[A\n",
      "  1%|▊                                                                             | 524k/53.8M [00:00<00:26, 1.98MB/s]\u001b[A\n",
      "  4%|██▉                                                                          | 2.10M/53.8M [00:00<00:09, 5.23MB/s]\u001b[A\n",
      "  7%|█████▏                                                                       | 3.67M/53.8M [00:00<00:08, 5.84MB/s]\u001b[A\n",
      "  9%|██████▋                                                                      | 4.72M/53.8M [00:00<00:09, 5.00MB/s]\u001b[A\n",
      " 11%|████████▏                                                                    | 5.77M/53.8M [00:01<00:08, 5.48MB/s]\u001b[A\n",
      " 13%|█████████▋                                                                   | 6.82M/53.8M [00:01<00:07, 5.89MB/s]\u001b[A\n",
      " 15%|███████████▏                                                                 | 7.86M/53.8M [00:01<00:08, 5.38MB/s]\u001b[A\n",
      " 17%|████████████▋                                                                | 8.91M/53.8M [00:01<00:07, 6.03MB/s]\u001b[A\n",
      " 19%|██████████████▏                                                              | 9.96M/53.8M [00:01<00:09, 4.82MB/s]\u001b[A\n",
      " 20%|███████████████▋                                                             | 11.0M/53.8M [00:02<00:07, 5.64MB/s]\u001b[A\n",
      " 22%|█████████████████▏                                                           | 12.1M/53.8M [00:02<00:06, 6.21MB/s]\u001b[A\n",
      " 24%|██████████████████▋                                                          | 13.1M/53.8M [00:02<00:07, 5.66MB/s]\u001b[A\n",
      " 26%|████████████████████▏                                                        | 14.2M/53.8M [00:02<00:06, 6.17MB/s]\u001b[A\n",
      " 28%|█████████████████████▋                                                       | 15.2M/53.8M [00:02<00:05, 6.48MB/s]\u001b[A\n",
      " 30%|███████████████████████▏                                                     | 16.3M/53.8M [00:02<00:06, 5.92MB/s]\u001b[A\n",
      " 33%|█████████████████████████▍                                                   | 17.8M/53.8M [00:03<00:04, 7.21MB/s]\u001b[A\n",
      " 35%|██████████████████████████▉                                                  | 18.9M/53.8M [00:03<00:04, 7.20MB/s]\u001b[A\n",
      " 37%|████████████████████████████▍                                                | 19.9M/53.8M [00:03<00:05, 5.70MB/s]\u001b[A\n",
      " 39%|█████████████████████████████▉                                               | 21.0M/53.8M [00:03<00:06, 4.87MB/s]\u001b[A\n",
      " 41%|███████████████████████████████▍                                             | 22.0M/53.8M [00:03<00:06, 4.94MB/s]\u001b[A\n",
      " 43%|████████████████████████████████▉                                            | 23.1M/53.8M [00:04<00:06, 4.86MB/s]\u001b[A\n",
      " 45%|██████████████████████████████████▍                                          | 24.1M/53.8M [00:04<00:06, 4.72MB/s]\u001b[A\n",
      " 46%|███████████████████████████████████▏                                         | 24.6M/53.8M [00:04<00:06, 4.27MB/s]\u001b[A\n",
      " 47%|███████████████████████████████████▉                                         | 25.2M/53.8M [00:04<00:07, 4.05MB/s]\u001b[A\n",
      " 48%|████████████████████████████████████▋                                        | 25.7M/53.8M [00:04<00:07, 3.78MB/s]\u001b[A\n",
      " 49%|█████████████████████████████████████▍                                       | 26.2M/53.8M [00:05<00:06, 3.96MB/s]\u001b[A\n",
      " 51%|██████████████████████████████████████▉                                      | 27.3M/53.8M [00:05<00:05, 4.79MB/s]\u001b[A\n",
      " 53%|████████████████████████████████████████▍                                    | 28.3M/53.8M [00:05<00:04, 5.92MB/s]\u001b[A\n",
      " 55%|█████████████████████████████████████████▉                                   | 29.4M/53.8M [00:05<00:03, 6.78MB/s]\u001b[A\n",
      " 56%|███████████████████████████████████████████▍                                 | 30.4M/53.8M [00:05<00:03, 6.77MB/s]\u001b[A\n",
      " 59%|█████████████████████████████████████████████▋                               | 32.0M/53.8M [00:05<00:03, 6.20MB/s]\u001b[A\n",
      " 61%|███████████████████████████████████████████████▏                             | 33.0M/53.8M [00:06<00:03, 5.23MB/s]\u001b[A\n",
      " 63%|████████████████████████████████████████████████▋                            | 34.1M/53.8M [00:06<00:03, 5.75MB/s]\u001b[A\n",
      " 65%|██████████████████████████████████████████████████▏                          | 35.1M/53.8M [00:06<00:03, 6.03MB/s]\u001b[A\n",
      " 67%|███████████████████████████████████████████████████▋                         | 36.2M/53.8M [00:06<00:03, 5.05MB/s]\u001b[A\n",
      " 69%|█████████████████████████████████████████████████████▏                       | 37.2M/53.8M [00:06<00:02, 5.73MB/s]\u001b[A\n",
      " 71%|██████████████████████████████████████████████████████▋                      | 38.3M/53.8M [00:07<00:02, 5.59MB/s]\u001b[A\n",
      " 73%|████████████████████████████████████████████████████████▏                    | 39.3M/53.8M [00:07<00:02, 6.29MB/s]\u001b[A\n",
      " 75%|█████████████████████████████████████████████████████████▋                   | 40.4M/53.8M [00:07<00:01, 6.89MB/s]\u001b[A\n",
      " 77%|███████████████████████████████████████████████████████████▏                 | 41.4M/53.8M [00:07<00:01, 6.95MB/s]\u001b[A\n",
      " 79%|████████████████████████████████████████████████████████████▋                | 42.5M/53.8M [00:07<00:01, 6.93MB/s]\u001b[A\n",
      " 81%|██████████████████████████████████████████████████████████████▏              | 43.5M/53.8M [00:07<00:01, 6.21MB/s]\u001b[A\n",
      " 83%|███████████████████████████████████████████████████████████████▋             | 44.6M/53.8M [00:07<00:01, 6.71MB/s]\u001b[A\n",
      " 85%|█████████████████████████████████████████████████████████████████▏           | 45.6M/53.8M [00:08<00:01, 6.77MB/s]\u001b[A\n",
      " 87%|██████████████████████████████████████████████████████████████████▋          | 46.7M/53.8M [00:08<00:01, 6.95MB/s]\u001b[A\n",
      " 89%|████████████████████████████████████████████████████████████████████▏        | 47.7M/53.8M [00:08<00:00, 7.43MB/s]\u001b[A\n",
      " 91%|█████████████████████████████████████████████████████████████████████▋       | 48.8M/53.8M [00:08<00:00, 7.00MB/s]\u001b[A\n",
      " 93%|███████████████████████████████████████████████████████████████████████▏     | 49.8M/53.8M [00:08<00:00, 7.06MB/s]\u001b[A\n",
      " 94%|████████████████████████████████████████████████████████████████████████▋    | 50.9M/53.8M [00:08<00:00, 6.25MB/s]\u001b[A\n",
      " 96%|██████████████████████████████████████████████████████████████████████████▏  | 51.9M/53.8M [00:08<00:00, 6.87MB/s]\u001b[A\n",
      " 98%|███████████████████████████████████████████████████████████████████████████▋ | 53.0M/53.8M [00:09<00:00, 6.79MB/s]\u001b[A\n",
      "100%|█████████████████████████████████████████████████████████████████████████████| 53.8M/53.8M [00:09<00:00, 5.82MB/s]\u001b[A\n",
      " 85%|█████████████████████████████████████████████████████████████████▏           | 45.6M/53.8M [00:24<00:01, 6.00MB/s]"
     ]
    },
    {
     "data": {
      "text/html": [
       "<div>\n",
       "<style scoped>\n",
       "    .dataframe tbody tr th:only-of-type {\n",
       "        vertical-align: middle;\n",
       "    }\n",
       "\n",
       "    .dataframe tbody tr th {\n",
       "        vertical-align: top;\n",
       "    }\n",
       "\n",
       "    .dataframe thead th {\n",
       "        text-align: right;\n",
       "    }\n",
       "</style>\n",
       "<table border=\"1\" class=\"dataframe\">\n",
       "  <thead>\n",
       "    <tr style=\"text-align: right;\">\n",
       "      <th></th>\n",
       "      <th>번호</th>\n",
       "      <th>도서명</th>\n",
       "      <th>저자</th>\n",
       "      <th>출판사</th>\n",
       "      <th>발행년도</th>\n",
       "      <th>ISBN</th>\n",
       "      <th>세트 ISBN</th>\n",
       "      <th>부가기호</th>\n",
       "      <th>권</th>\n",
       "      <th>주제분류번호</th>\n",
       "      <th>도서권수</th>\n",
       "      <th>대출건수</th>\n",
       "      <th>등록일자</th>\n",
       "    </tr>\n",
       "  </thead>\n",
       "  <tbody>\n",
       "    <tr>\n",
       "      <th>0</th>\n",
       "      <td>1</td>\n",
       "      <td>인공지능과 흙</td>\n",
       "      <td>김동훈 지음</td>\n",
       "      <td>민음사</td>\n",
       "      <td>2021</td>\n",
       "      <td>9788937444319</td>\n",
       "      <td>NaN</td>\n",
       "      <td>NaN</td>\n",
       "      <td>NaN</td>\n",
       "      <td>NaN</td>\n",
       "      <td>1</td>\n",
       "      <td>0</td>\n",
       "      <td>2021-03-19</td>\n",
       "    </tr>\n",
       "    <tr>\n",
       "      <th>1</th>\n",
       "      <td>2</td>\n",
       "      <td>가짜 행복 권하는 사회</td>\n",
       "      <td>김태형 지음</td>\n",
       "      <td>갈매나무</td>\n",
       "      <td>2021</td>\n",
       "      <td>9791190123969</td>\n",
       "      <td>NaN</td>\n",
       "      <td>NaN</td>\n",
       "      <td>NaN</td>\n",
       "      <td>NaN</td>\n",
       "      <td>1</td>\n",
       "      <td>0</td>\n",
       "      <td>2021-03-19</td>\n",
       "    </tr>\n",
       "    <tr>\n",
       "      <th>2</th>\n",
       "      <td>3</td>\n",
       "      <td>나도 한 문장 잘 쓰면 바랄 게 없겠네</td>\n",
       "      <td>김선영 지음</td>\n",
       "      <td>블랙피쉬</td>\n",
       "      <td>2021</td>\n",
       "      <td>9788968332982</td>\n",
       "      <td>NaN</td>\n",
       "      <td>NaN</td>\n",
       "      <td>NaN</td>\n",
       "      <td>NaN</td>\n",
       "      <td>1</td>\n",
       "      <td>0</td>\n",
       "      <td>2021-03-19</td>\n",
       "    </tr>\n",
       "    <tr>\n",
       "      <th>3</th>\n",
       "      <td>4</td>\n",
       "      <td>예루살렘 해변</td>\n",
       "      <td>이도 게펜 지음, 임재희 옮김</td>\n",
       "      <td>문학세계사</td>\n",
       "      <td>2021</td>\n",
       "      <td>9788970759906</td>\n",
       "      <td>NaN</td>\n",
       "      <td>NaN</td>\n",
       "      <td>NaN</td>\n",
       "      <td>NaN</td>\n",
       "      <td>1</td>\n",
       "      <td>0</td>\n",
       "      <td>2021-03-19</td>\n",
       "    </tr>\n",
       "    <tr>\n",
       "      <th>4</th>\n",
       "      <td>5</td>\n",
       "      <td>김성곤의 중국한시기행 : 장강·황하 편</td>\n",
       "      <td>김성곤 지음</td>\n",
       "      <td>김영사</td>\n",
       "      <td>2021</td>\n",
       "      <td>9788934990833</td>\n",
       "      <td>NaN</td>\n",
       "      <td>NaN</td>\n",
       "      <td>NaN</td>\n",
       "      <td>NaN</td>\n",
       "      <td>1</td>\n",
       "      <td>0</td>\n",
       "      <td>2021-03-19</td>\n",
       "    </tr>\n",
       "  </tbody>\n",
       "</table>\n",
       "</div>"
      ],
      "text/plain": [
       "   번호                    도서명                저자    출판사  발행년도           ISBN  \\\n",
       "0   1                인공지능과 흙            김동훈 지음    민음사  2021  9788937444319   \n",
       "1   2           가짜 행복 권하는 사회            김태형 지음   갈매나무  2021  9791190123969   \n",
       "2   3  나도 한 문장 잘 쓰면 바랄 게 없겠네            김선영 지음   블랙피쉬  2021  9788968332982   \n",
       "3   4                예루살렘 해변  이도 게펜 지음, 임재희 옮김  문학세계사  2021  9788970759906   \n",
       "4   5  김성곤의 중국한시기행 : 장강·황하 편            김성곤 지음    김영사  2021  9788934990833   \n",
       "\n",
       "  세트 ISBN 부가기호    권 주제분류번호  도서권수  대출건수        등록일자  \n",
       "0     NaN  NaN  NaN    NaN     1     0  2021-03-19  \n",
       "1     NaN  NaN  NaN    NaN     1     0  2021-03-19  \n",
       "2     NaN  NaN  NaN    NaN     1     0  2021-03-19  \n",
       "3     NaN  NaN  NaN    NaN     1     0  2021-03-19  \n",
       "4     NaN  NaN  NaN    NaN     1     0  2021-03-19  "
      ]
     },
     "execution_count": 15,
     "metadata": {},
     "output_type": "execute_result"
    }
   ],
   "source": [
    "import gdown\n",
    "\n",
    "gdown.download('https://bit.ly/3pK7iuu', 'ns_book7.csv', quiet=False)\n",
    "\n",
    "import pandas as pd\n",
    "\n",
    "ns_book7 = pd.read_csv(\"ns_book7.csv\", low_memory=False)\n",
    "ns_book7.head()"
   ]
  },
  {
   "cell_type": "code",
   "execution_count": 16,
   "id": "10c280a5",
   "metadata": {},
   "outputs": [],
   "source": [
    "import matplotlib.pyplot as plt"
   ]
  },
  {
   "cell_type": "code",
   "execution_count": 18,
   "id": "a97f2d05",
   "metadata": {},
   "outputs": [
    {
     "data": {
      "image/png": "[encoded data removed]",
      "text/plain": [
       "<Figure size 640x480 with 1 Axes>"
      ]
     },
     "metadata": {},
     "output_type": "display_data"
    }
   ],
   "source": [
    "plt.hist(ns_book7['대출건수'], bins=50)\n",
    "plt.yscale('log')\n",
    "plt.show()"
   ]
  },
  {
   "cell_type": "code",
   "execution_count": null,
   "id": "7f5d9de6",
   "metadata": {},
   "outputs": [],
   "source": []
  }
 ],
 "metadata": {
  "kernelspec": {
   "display_name": "Python 3 (ipykernel)",
   "language": "python",
   "name": "python3"
  },
  "language_info": {
   "codemirror_mode": {
    "name": "ipython",
    "version": 3
   },
   "file_extension": ".py",
   "mimetype": "text/x-python",
   "name": "python",
   "nbconvert_exporter": "python",
   "pygments_lexer": "ipython3",
   "version": "3.9.17"
  }
 },
 "nbformat": 4,
 "nbformat_minor": 5
}
